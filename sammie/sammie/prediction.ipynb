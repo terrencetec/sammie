{
 "cells": [
  {
   "cell_type": "code",
   "execution_count": 4,
   "id": "47f15b97",
   "metadata": {},
   "outputs": [],
   "source": [
    "import control\n",
    "import numpy as np\n",
    "import matplotlib.pyplot as plt\n",
    "\n",
    "data = np.loadtxt(\"l1_ham8_plant_xyz.txt\")\n",
    "f = data[:, 0]\n",
    "z_real = data[:, 5]\n",
    "z_imag = data[:, 6]\n",
    "z_tf = z_real + 1j*z_imag\n",
    "\n",
    "s = control.tf(\"s\")\n",
    "wn = 1*2*np.pi\n",
    "q = 1/np.sqrt(2)\n",
    "gs13_inv = (s**2+wn/q*s+wn**2) / s**3\n",
    "\n",
    "z_tf *= gs13_inv(1j*2*np.pi*f)"
   ]
  },
  {
   "cell_type": "code",
   "execution_count": 5,
   "id": "608e49ce",
   "metadata": {},
   "outputs": [],
   "source": [
    "f_ = np.logspace(-2, 2, 1024)\n",
    "\n",
    "n_seis = 1/f_ * 0.05\n",
    "n_gs13 = abs(((s**2+wn/q*s+wn**2) / s**3)(1j*2*np.pi*f_)) * 0.005\n",
    "n_cps = np.ones_like(f_) * 0.01\n",
    "wg = 0.15*2*np.pi\n",
    "qg = 5\n",
    "xg = abs((wg**2 / (s**2+wg/qg*s+wg**2) * (s+(0.3*2*np.pi))/(0.3*2*np.pi) * 1)(1j*2*np.pi*f_)) "
   ]
  },
  {
   "cell_type": "code",
   "execution_count": 6,
   "id": "299427e8",
   "metadata": {},
   "outputs": [
    {
     "ename": "NameError",
     "evalue": "name 'model' is not defined",
     "output_type": "error",
     "traceback": [
      "\u001b[0;31m---------------------------------------------------------------------------\u001b[0m",
      "\u001b[0;31mNameError\u001b[0m                                 Traceback (most recent call last)",
      "Cell \u001b[0;32mIn[6], line 3\u001b[0m\n\u001b[1;32m      1\u001b[0m wc \u001b[38;5;241m=\u001b[39m \u001b[38;5;241m10\u001b[39m\u001b[38;5;241m*\u001b[39m\u001b[38;5;241m2\u001b[39m\u001b[38;5;241m*\u001b[39mnp\u001b[38;5;241m.\u001b[39mpi\n\u001b[1;32m      2\u001b[0m k \u001b[38;5;241m=\u001b[39m (s\u001b[38;5;241m+\u001b[39mwc)\u001b[38;5;241m/\u001b[39m(wc) \u001b[38;5;241m*\u001b[39m (\u001b[38;5;241m50\u001b[39m\u001b[38;5;241m*\u001b[39m\u001b[38;5;241m2\u001b[39m\u001b[38;5;241m*\u001b[39mnp\u001b[38;5;241m.\u001b[39mpi)\u001b[38;5;241m/\u001b[39m(s\u001b[38;5;241m+\u001b[39m\u001b[38;5;241m50\u001b[39m\u001b[38;5;241m*\u001b[39m\u001b[38;5;241m2\u001b[39m\u001b[38;5;241m*\u001b[39mnp\u001b[38;5;241m.\u001b[39mpi) \u001b[38;5;241m*\u001b[39m \u001b[38;5;241m10\u001b[39m\n\u001b[0;32m----> 3\u001b[0m p \u001b[38;5;241m=\u001b[39m \u001b[43mmodel\u001b[49m\n\u001b[1;32m      5\u001b[0m kp \u001b[38;5;241m=\u001b[39m k\u001b[38;5;241m*\u001b[39mp\n\u001b[1;32m      6\u001b[0m pg \u001b[38;5;241m=\u001b[39m p\u001b[38;5;241m/\u001b[39m\u001b[38;5;28mabs\u001b[39m(p(\u001b[38;5;241m0\u001b[39m))\n",
      "\u001b[0;31mNameError\u001b[0m: name 'model' is not defined"
     ]
    }
   ],
   "source": [
    "wc = 10*2*np.pi\n",
    "k = (s+wc)/(wc) * (50*2*np.pi)/(s+50*2*np.pi) * 10\n",
    "p = model\n",
    "\n",
    "kp = k*p\n",
    "pg = p/abs(p(0))"
   ]
  },
  {
   "cell_type": "code",
   "execution_count": 7,
   "id": "e6dd68fb",
   "metadata": {},
   "outputs": [],
   "source": [
    "w_sc = 0.05*2*np.pi\n",
    "q_sc = 2\n",
    "h_sc = (s**2) / (s**2+w_sc/q_sc*s+w_sc**2)"
   ]
  },
  {
   "cell_type": "code",
   "execution_count": 8,
   "id": "e2e46944",
   "metadata": {},
   "outputs": [
    {
     "ename": "NameError",
     "evalue": "name 'pg' is not defined",
     "output_type": "error",
     "traceback": [
      "\u001b[0;31m---------------------------------------------------------------------------\u001b[0m",
      "\u001b[0;31mNameError\u001b[0m                                 Traceback (most recent call last)",
      "Cell \u001b[0;32mIn[8], line 4\u001b[0m\n\u001b[1;32m      1\u001b[0m \u001b[38;5;28;01mimport\u001b[39;00m \u001b[38;5;21;01mkontrol\u001b[39;00m\n\u001b[1;32m      2\u001b[0m \u001b[38;5;28;01mimport\u001b[39;00m \u001b[38;5;21;01mkontrol\u001b[39;00m\u001b[38;5;21;01m.\u001b[39;00m\u001b[38;5;21;01mcomplementary_filter\u001b[39;00m\u001b[38;5;21;01m.\u001b[39;00m\u001b[38;5;21;01mpredefined\u001b[39;00m\n\u001b[0;32m----> 4\u001b[0m d \u001b[38;5;241m=\u001b[39m \u001b[38;5;28mabs\u001b[39m(\u001b[43mpg\u001b[49m(\u001b[38;5;241m1\u001b[39mj\u001b[38;5;241m*\u001b[39m\u001b[38;5;241m2\u001b[39m\u001b[38;5;241m*\u001b[39mnp\u001b[38;5;241m.\u001b[39mpi\u001b[38;5;241m*\u001b[39mf_)) \u001b[38;5;241m*\u001b[39m xg\n\u001b[1;32m      5\u001b[0m n_sc \u001b[38;5;241m=\u001b[39m kontrol\u001b[38;5;241m.\u001b[39mcore\u001b[38;5;241m.\u001b[39mmath\u001b[38;5;241m.\u001b[39mquad_sum(n_cps, \u001b[38;5;28mabs\u001b[39m(h_sc(\u001b[38;5;241m1\u001b[39mj\u001b[38;5;241m*\u001b[39m\u001b[38;5;241m2\u001b[39m\u001b[38;5;241m*\u001b[39mnp\u001b[38;5;241m.\u001b[39mpi\u001b[38;5;241m*\u001b[39mf_))\u001b[38;5;241m*\u001b[39mn_seis, \u001b[38;5;28mabs\u001b[39m((\u001b[38;5;241m1\u001b[39m\u001b[38;5;241m-\u001b[39mh_sc)(\u001b[38;5;241m1\u001b[39mj\u001b[38;5;241m*\u001b[39m\u001b[38;5;241m2\u001b[39m\u001b[38;5;241m*\u001b[39mnp\u001b[38;5;241m.\u001b[39mpi\u001b[38;5;241m*\u001b[39mf_))\u001b[38;5;241m*\u001b[39mxg)\n\u001b[1;32m      7\u001b[0m h1, h2 \u001b[38;5;241m=\u001b[39m kontrol\u001b[38;5;241m.\u001b[39mcomplementary_filter\u001b[38;5;241m.\u001b[39mpredefined\u001b[38;5;241m.\u001b[39msekiguchi([\u001b[38;5;241m0.1\u001b[39m\u001b[38;5;241m*\u001b[39m\u001b[38;5;241m2\u001b[39m\u001b[38;5;241m*\u001b[39mnp\u001b[38;5;241m.\u001b[39mpi])\n",
      "\u001b[0;31mNameError\u001b[0m: name 'pg' is not defined"
     ]
    }
   ],
   "source": [
    "import kontrol\n",
    "import kontrol.complementary_filter.predefined\n",
    "\n",
    "d = abs(pg(1j*2*np.pi*f_)) * xg\n",
    "n_sc = kontrol.core.math.quad_sum(n_cps, abs(h_sc(1j*2*np.pi*f_))*n_seis, abs((1-h_sc)(1j*2*np.pi*f_))*xg)\n",
    "\n",
    "h1, h2 = kontrol.complementary_filter.predefined.sekiguchi([0.1*2*np.pi])\n",
    "\n",
    "n = kontrol.core.math.quad_sum(abs(h1(1j*2*np.pi*f_))*n_sc, abs(h2(1j*2*np.pi*f_))*n_gs13)\n",
    "\n",
    "x = kontrol.core.math.quad_sum(abs((1/(1+kp))(1j*2*np.pi*f_))*d, abs((kp/(1+kp))(1j*2*np.pi*f_))*n)"
   ]
  },
  {
   "cell_type": "code",
   "execution_count": null,
   "id": "8fb92e1a",
   "metadata": {},
   "outputs": [],
   "source": [
    "# plt.loglog(f_, xg, label=\"Seismic noise\")\n",
    "# plt.loglog(f_, abs(h_sc(1j*2*np.pi*f_)))\n",
    "# plt.loglog(f_, n_sc)\n",
    "# plt.loglog(f_, n_seis, label=\"STS\")\n",
    "# plt.loglog(f_, n_gs13, label=\"GS-13\")\n",
    "# plt.loglog(f_, n_cps, label=\"CPS\")\n",
    "plt.loglog(f_, d)\n",
    "plt.loglog(f_, n)\n",
    "plt.loglog(f_, x)\n",
    "# plt.loglog(f_, abs(h1(1j*2*np.pi*f_)))\n",
    "# plt.loglog(f_, abs(h2(1j*2*np.pi*f_)))\n",
    "plt.grid(which=\"both\")\n",
    "plt.legend(loc=0)\n"
   ]
  },
  {
   "cell_type": "code",
   "execution_count": 9,
   "id": "9c8c6a0e",
   "metadata": {},
   "outputs": [],
   "source": [
    "import vishack\n",
    "\n",
    "data_xml = vishack.data.diaggui.Diaggui(\"ham7-ff-plant-trans-tf-data.xml\")\n",
    "# data_xml.items"
   ]
  },
  {
   "cell_type": "code",
   "execution_count": 10,
   "id": "107b9046",
   "metadata": {},
   "outputs": [],
   "source": [
    "w1 = 1.875*2*np.pi\n",
    "q1 = 1/0.7\n",
    "model = w1**2 / (s**2+w1/q1*s+w1**2) * 6"
   ]
  },
  {
   "cell_type": "code",
   "execution_count": 11,
   "id": "977be638",
   "metadata": {},
   "outputs": [
    {
     "data": {
      "text/plain": [
       "[<matplotlib.lines.Line2D at 0x7efc729248e0>]"
      ]
     },
     "execution_count": 11,
     "metadata": {},
     "output_type": "execute_result"
    },
    {
     "data": {
      "image/png": "[encoded data removed]",
      "text/plain": [
       "<Figure size 640x480 with 2 Axes>"
      ]
     },
     "metadata": {},
     "output_type": "display_data"
    }
   ],
   "source": [
    "plt.subplot(211)\n",
    "plt.loglog(f, abs(z_tf))\n",
    "plt.loglog(f, abs(model(1j*2*np.pi*f)))\n",
    "\n",
    "plt.subplot(212)\n",
    "plt.semilogx(f, np.angle(z_tf, deg=True))"
   ]
  },
  {
   "cell_type": "code",
   "execution_count": null,
   "id": "30513f01-8276-41c8-8af4-7a8a272ef1f4",
   "metadata": {},
   "outputs": [],
   "source": []
  }
 ],
 "metadata": {
  "kernelspec": {
   "display_name": "Python 3 (ipykernel)",
   "language": "python",
   "name": "python3"
  },
  "language_info": {
   "codemirror_mode": {
    "name": "ipython",
    "version": 3
   },
   "file_extension": ".py",
   "mimetype": "text/x-python",
   "name": "python",
   "nbconvert_exporter": "python",
   "pygments_lexer": "ipython3",
   "version": "3.9.18"
  }
 },
 "nbformat": 4,
 "nbformat_minor": 5
}

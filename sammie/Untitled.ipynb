{
 "cells": [
  {
   "cell_type": "code",
   "execution_count": null,
   "id": "d3847f7d-caf2-47eb-a62c-13b10ec5c613",
   "metadata": {},
   "outputs": [],
   "source": [
    "from gwpy.timeseries import TimeSeries\n",
    "import nds2\n",
    "from scipy.signal import coherence\n",
    "import cdsutils\n",
    "import matplotlib.pyplot as plt"
   ]
  },
  {
   "cell_type": "code",
   "execution_count": null,
   "id": "248a62da-e651-43d3-8ff0-c99953d0a877",
   "metadata": {},
   "outputs": [],
   "source": [
    "def fetch_timeseries_data(channel, gps_start, gps_end, mode):\n",
    "    if mode == 'gwpy':\n",
    "        #data = TimeSeries.fetch(channel, gps_start, gps_end,connection=conn, allow_tape=True)\n",
    "        data = TimeSeries.fetch(channel, gps_start, gps_end,allow_tape=True)\n",
    "    elif mode == 'cdsutils':\n",
    "        target_data =  cdsutils.getdata(channel, gps_end-gps_start, gps_start)\n",
    "        print(target_data)\n",
    "        data = TimeSeries(data=target_data.data, t0=gps_start, dt=1/target_data.sample_rate,name=channel)\n",
    "    return data\n",
    "\n",
    "\n",
    "def coherence_calculator(data_A, data_B):\n",
    "    rate = data_A.sample_rate.value\n",
    "    f,coh = coherence(data_A.value,data_B.value, fs=rate, nperseg=rate*512, noverlap=rate*512/2)\n",
    "    return f,coh\n",
    "\n",
    "\n",
    "def plot_asd_coherence(data_A, data_B):\n",
    "\n",
    "    f,coh = coherence_calculator(data_A, data_B)\n",
    "    ax1 = plt.subplot(211)\n",
    "    asd_a = ITMX_data.asd(fftlength=512,overlap=0.5)\n",
    "    asd_b = ITMY_data.asd(fftlength=512,overlap=0.5)\n",
    "    ax1.plot(asd_a.frequencies, asd_a.value, label=\"ITMX\")\n",
    "    ax1.plot(asd_b.frequencies, asd_b.value, label=\"ITMY\")\n",
    "    ax1.set_xlim(0.001,100)\n",
    "    ax1.set_xscale('log')\n",
    "    ax1.set_yscale('log')\n",
    "    ax1.legend()\n",
    "    ax2 = plt.subplot(212,sharex=ax1)\n",
    "    ax2.plot(f,coh)\n",
    "    plt.show()"
   ]
  },
  {
   "cell_type": "code",
   "execution_count": null,
   "id": "d784d0df-865a-46cb-aa0e-c0cf4548a4ce",
   "metadata": {},
   "outputs": [],
   "source": [
    "# Checking coherence between ETMX and ITMX ground sensors\n",
    "\n",
    "ITMX_data = fetch_timeseries_data('L1:ISI-GND_STS_ITMX_X_DQ',\n",
    "                                  1395949213, 1395949213 + 10*512, \"cdsutils\" )\n",
    "ITMY_data = fetch_timeseries_data('L1:ISI-GND_STS_ITMY_X_DQ',\n",
    "                                  1395949213, 1395949213 + 10*512, \"cdsutils\" )"
   ]
  },
  {
   "cell_type": "code",
   "execution_count": null,
   "id": "818b76b1-fbc5-45f8-bacf-fc59db241252",
   "metadata": {},
   "outputs": [],
   "source": [
    "plot_asd_coherence(ITMX_data, ITMY_data)"
   ]
  },
  {
   "cell_type": "code",
   "execution_count": null,
   "id": "8cd4d0f3-946f-47d3-afcf-fc8e42e3d4f1",
   "metadata": {},
   "outputs": [],
   "source": [
    "f,coh = coherence_calculator(ITMX_data, ITMY_data)"
   ]
  },
  {
   "cell_type": "code",
   "execution_count": null,
   "id": "b1666afc-ea6f-4c8d-9eb8-58168229dc30",
   "metadata": {},
   "outputs": [],
   "source": [
    "from gwpy.frequencyseries import FrequencySeries\n",
    "import numpy as np\n",
    "asd_a = ITMX_data.asd(fftlength=512,overlap=0.5)\n",
    "asd_b = ITMY_data.asd(fftlength=512,overlap=0.5)\n",
    "asd_dis_a = FrequencySeries(data=asd_a.value/(2*np.pi*asd_a.frequencies), \n",
    "                            f0=asd_a.f0, \n",
    "                            df=asd_a.df, \n",
    "                            name=asd_a.name, \n",
    "                            epoch=asd_a.epoch, \n",
    "                            channel=asd_a.channel)\n",
    "\n",
    "asd_dis_b = FrequencySeries(data=asd_b.value/(2*np.pi*asd_b.frequencies), \n",
    "                            f0=asd_b.f0, \n",
    "                            df=asd_b.df, \n",
    "                            name=asd_b.name, \n",
    "                            epoch=asd_b.epoch, \n",
    "                            channel=asd_b.channel)"
   ]
  },
  {
   "cell_type": "code",
   "execution_count": null,
   "id": "2bf45d58-cab3-4e61-b0fe-aff52c314324",
   "metadata": {},
   "outputs": [],
   "source": [
    "import matplotlib.pyplot as plt\n",
    "plt.plot(asd_a.frequencies, asd_a.value*1e-9, label=\"ITMX\")\n",
    "plt.plot(asd_b.frequencies, asd_b.value*1e-9, label=\"ITMY\")\n",
    "plt.xlim(0.001,100)\n",
    "plt.xscale('log')\n",
    "plt.yscale('log')\n",
    "plt.legend()\n",
    "plt.show()"
   ]
  },
  {
   "cell_type": "code",
   "execution_count": null,
   "id": "5a85e1bf-db2d-4b73-8f84-e3a9fb1a826a",
   "metadata": {},
   "outputs": [],
   "source": [
    "asd_a.frequencies"
   ]
  },
  {
   "cell_type": "code",
   "execution_count": null,
   "id": "4cddd8a1-570f-4abc-8c49-0aedeabd311b",
   "metadata": {},
   "outputs": [],
   "source": [
    "def noise_model(f, a, b, na, nb):\n",
    "    \"\"\"Noise model\"\"\"\n",
    "\n",
    "    noise = ((na/f**a)**2 + (nb/f**b)**2)**.5\n",
    "    return noise\n",
    "n_sei_x = noise_model(asd_a.frequencies.value, a=1.95, b=1.1, na=10**-9, nb=0)    \n",
    "n_sei_y = noise_model(asd_a.frequencies.value, a=1.95, b=1.1, na=10**-9, nb=0)"
   ]
  },
  {
   "cell_type": "code",
   "execution_count": null,
   "id": "84f8960b-9073-4ebf-a95a-a1d69ddf0d74",
   "metadata": {},
   "outputs": [],
   "source": [
    "plt.plot(asd_a.frequencies, asd_a.value*1e-9, label=\"ITMX\")\n",
    "plt.plot(asd_b.frequencies, asd_b.value*1e-9, label=\"ITMY\")\n",
    "plt.plot(asd_a.frequencies, n_sei_y, label=\"SEI\")\n",
    "plt.plot(asd_a.frequencies, n_sei_x, label=\"SEI\")\n",
    "plt.xlim(0.001,100)\n",
    "plt.xscale('log')\n",
    "plt.yscale('log')\n",
    "plt.legend()\n",
    "plt.show()"
   ]
  },
  {
   "cell_type": "code",
   "execution_count": null,
   "id": "540217e0-dba3-431d-9831-dc923411babe",
   "metadata": {},
   "outputs": [],
   "source": [
    "def frequency_minima_scipy_groundmotion(data_A, data_B, asd_dis_a, asd_dis_b):\n",
    "\n",
    "    f,coh = coherence_calculator(data_A, data_B)\n",
    "    # find the point where there is max coherence\n",
    "    rounded_coh = np.round(coh, 2)\n",
    "    first_one_coh = np.min(np.where(rounded_coh == 1.00))\n",
    "\n",
    "    # from that frequency position to 0 make freq-bins of given width and check for \n",
    "    # coherence difference in each bin\n",
    "    check_array = np.arange(first_one_coh, 0, -5)\n",
    "    min_asd = np.min(asd_dis_a.value[0:first_one_coh])\n",
    "    last_one_coh = np.max(np.where(asd_dis_a.value[0:first_one_coh] == min_asd))\n",
    "    frequency = asd_dis_a.frequencies[last_one_coh]\n",
    "    return frequency.value"
   ]
  },
  {
   "cell_type": "code",
   "execution_count": null,
   "id": "1fcc273a-4ddc-4f10-b71a-dcbb3b2339f4",
   "metadata": {},
   "outputs": [],
   "source": [
    "min_freq = frequency_minima_scipy_groundmotion(ITMX_data, ITMY_data, asd_dis_a, asd_dis_b)"
   ]
  },
  {
   "cell_type": "code",
   "execution_count": null,
   "id": "12118900-f19a-4806-a686-9eff470f54f2",
   "metadata": {},
   "outputs": [],
   "source": [
    "print(min_freq)\n",
    "\n",
    "upper = np.max(np.where(asd_dis_a.frequencies.value == min_freq))\n",
    "lower = np.max(np.where((asd_dis_a.frequencies.value - 1e-2) <0.001))\n",
    "asd_a.frequencies[lower:upper]"
   ]
  },
  {
   "cell_type": "code",
   "execution_count": null,
   "id": "b50a8755-ca48-4d70-8801-b9cc65d9d072",
   "metadata": {},
   "outputs": [],
   "source": [
    "plt.plot(asd_dis_a.frequencies[lower:upper], asd_a.value[lower:upper]*1e-9, label=\"ITMX\")\n",
    "plt.plot(asd_dis_bb.frequencies[lower:upper], asd_b.value[lower:upper]*1e-9, label=\"ITMY\")\n",
    "plt.plot(asd_a.frequencies[lower:upper], n_sei_y[lower:upper], label=\"SEI\")\n",
    "# plt.plot(asd_a.frequencies[lower:upper], n_sei_x[lower:upper], label=\"SEI\")\n",
    "plt.xlim(0.001,100)\n",
    "plt.xscale('log')\n",
    "plt.yscale('log')\n",
    "plt.legend()\n",
    "plt.show()"
   ]
  },
  {
   "cell_type": "code",
   "execution_count": null,
   "id": "b6be3310-f866-442d-b8c9-4099c3d62943",
   "metadata": {},
   "outputs": [],
   "source": [
    "def noise_model(f, a, na):\n",
    "    \"\"\"Noise model\"\"\"\n",
    "\n",
    "    noise = ((na/f**a)**2)**.5\n",
    "    return noise"
   ]
  },
  {
   "cell_type": "code",
   "execution_count": null,
   "id": "f7befffa-c21c-4933-aed4-8a89ae3b37d5",
   "metadata": {},
   "outputs": [],
   "source": [
    "from scipy.optimize import curve_fit\n",
    "param, param_cov = curve_fit(noise_model, asd_dis_a.frequencies[lower:upper],asd_dis_a.value[lower:upper]*1e-9)\n",
    "print(param)"
   ]
  },
  {
   "cell_type": "code",
   "execution_count": null,
   "id": "33a32107-64c6-41fa-84a0-05ab56b05a6a",
   "metadata": {},
   "outputs": [],
   "source": [
    "n_sei_x = noise_model(asd_dis_a.frequencies.value, a=param[0], na=param[1])"
   ]
  },
  {
   "cell_type": "code",
   "execution_count": null,
   "id": "d418d09e-716d-46b7-a135-f92d90f586f0",
   "metadata": {},
   "outputs": [],
   "source": [
    "plt.plot(asd_dis_a.frequencies, asd_dis_a.value*1e-9, label=\"ITMX\")\n",
    "plt.plot(asd_dis_b.frequencies, asd_dis_b.value*1e-9, label=\"ITMY\")\n",
    "plt.plot(asd_dis_a.frequencies, n_sei_x, label=\"SEI\")\n",
    "plt.xlim(0.001,100)\n",
    "plt.xscale('log')\n",
    "plt.yscale('log')\n",
    "plt.legend()\n",
    "plt.show()"
   ]
  },
  {
   "cell_type": "code",
   "execution_count": 2,
   "id": "a2a419df-6999-4528-a263-c1833f2f81e6",
   "metadata": {},
   "outputs": [],
   "source": [
    "import vishack\n"
   ]
  },
  {
   "cell_type": "code",
   "execution_count": 4,
   "id": "8043bc18-887b-4fb0-9c31-e7a678faa7a6",
   "metadata": {},
   "outputs": [],
   "source": [
    "data = vishack.data.diaggui.Diaggui(\"etc/data/seismic_injection_data_20231210.xml\")"
   ]
  },
  {
   "cell_type": "code",
   "execution_count": 5,
   "id": "fcb55f67-8cad-4990-b1b8-57451cc28dea",
   "metadata": {},
   "outputs": [],
   "source": []
  },
  {
   "cell_type": "code",
   "execution_count": 11,
   "id": "478c6864-8b9a-4711-98bd-56c2a71ec5dc",
   "metadata": {},
   "outputs": [
    {
     "name": "stdout",
     "output_type": "stream",
     "text": [
      "(array([40]),)\n"
     ]
    },
    {
     "data": {
      "text/plain": [
       "[<matplotlib.lines.Line2D at 0x7f486b9a7a00>]"
      ]
     },
     "execution_count": 11,
     "metadata": {},
     "output_type": "execute_result"
    },
    {
     "data": {
      "image/png": "[encoded data removed]",
      "text/plain": [
       "<Figure size 640x480 with 1 Axes>"
      ]
     },
     "metadata": {},
     "output_type": "display_data"
    }
   ],
   "source": [
    "import matplotlib.pyplot as plt\n",
    "import numpy as np\n",
    "\n",
    "data = vishack.data.diaggui.Diaggui(\"etc/data/seismic_injection_data_20231210.xml\")\n",
    "f, psd = data.psd(\"L1:ISI-GND_STS_ITMY_Y_DQ\")\n",
    "psd = psd* 1/(2*np.pi*f)*1e-9\n",
    "minimum = min(psd[0:100])\n",
    "print(np.where(psd == minimum))\n",
    "\n",
    "cutoff = 40\n",
    "\n",
    "plt.loglog(f, psd)"
   ]
  },
  {
   "cell_type": "code",
   "execution_count": null,
   "id": "f7a3a47d-0bf4-4101-b8d1-a766f6e8787b",
   "metadata": {},
   "outputs": [],
   "source": []
  }
 ],
 "metadata": {
  "kernelspec": {
   "display_name": "Python 3 (ipykernel)",
   "language": "python",
   "name": "python3"
  },
  "language_info": {
   "codemirror_mode": {
    "name": "ipython",
    "version": 3
   },
   "file_extension": ".py",
   "mimetype": "text/x-python",
   "name": "python",
   "nbconvert_exporter": "python",
   "pygments_lexer": "ipython3",
   "version": "3.9.18"
  }
 },
 "nbformat": 4,
 "nbformat_minor": 5
}

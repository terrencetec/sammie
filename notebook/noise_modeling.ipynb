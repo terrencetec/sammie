{
 "cells": [
  {
   "cell_type": "code",
   "execution_count": 1,
   "id": "03152785",
   "metadata": {},
   "outputs": [],
   "source": [
    "import control\n",
    "import numpy as np\n",
    "import matplotlib.pyplot as plt\n",
    "\n",
    "import kontrol\n",
    "\n",
    "\n",
    "def noise_model(f, na, nb, a, b):\n",
    "    noise = ((na/f**a)**2+(nb/f**b)**2)**.5\n",
    "    return noise\n",
    "\n",
    "n_seis_params2 = [1*10**-9.9, 0, 2.5, 0]\n",
    "n_seis_params1 = [1*10**-9.15, 0, 2.5, 0]\n",
    "n_seis_params4 = [1*10**-9.8, 0, 2.5, 0]\n",
    "\n",
    "n_gs13_params = [1*10**-11.125, 1*10**-11.375, 3.5, 1.15]\n",
    "n_ade1_params = [1*10**-10.0625, 2e-10, 0.75, 0]\n",
    "\n",
    "n_seis1 = lambda f: noise_model(f, *n_seis_params1)\n",
    "n_seis2 = lambda f: noise_model(f, *n_seis_params2)\n",
    "n_seis4 = lambda f: noise_model(f, *n_seis_params4)\n",
    "\n",
    "n_gs13 = lambda f: noise_model(f, *n_gs13_params)\n",
    "n_ade1 = lambda f: noise_model(f, *n_ade1_params)"
   ]
  },
  {
   "cell_type": "code",
   "execution_count": null,
   "id": "5032aa69",
   "metadata": {},
   "outputs": [],
   "source": [
    "plt.loglog(f, n_seis1)\n",
    "plt.xlabel(\"Frequency (Hz)\")\n",
    "plt.ylabel(\"Amplitude spectral density ($\\mathrm{m}/\\sqrt{\\mathrm{Hz}}$)\")\n",
    "plt.legend(loc=0)\n",
    "plt.grid(which=\"both\")"
   ]
  }
 ],
 "metadata": {
  "kernelspec": {
   "display_name": "Python 3 (ipykernel)",
   "language": "python",
   "name": "python3"
  },
  "language_info": {
   "codemirror_mode": {
    "name": "ipython",
    "version": 3
   },
   "file_extension": ".py",
   "mimetype": "text/x-python",
   "name": "python",
   "nbconvert_exporter": "python",
   "pygments_lexer": "ipython3",
   "version": "3.10.4"
  }
 },
 "nbformat": 4,
 "nbformat_minor": 5
}

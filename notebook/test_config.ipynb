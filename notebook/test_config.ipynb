{
 "cells": [
  {
   "cell_type": "code",
   "execution_count": 1,
   "id": "cf24c98f-834f-4579-9c43-4cc63acdb8d1",
   "metadata": {},
   "outputs": [],
   "source": [
    "import seibot.config\n",
    "\n",
    "path = \"test.ini\"\n",
    "\n",
    "seibot.config.get_seibot_config(path)"
   ]
  },
  {
   "cell_type": "code",
   "execution_count": 2,
   "id": "15d46028-4480-4bef-9904-d427a76e5e73",
   "metadata": {},
   "outputs": [],
   "source": [
    "import seibot.seibot\n",
    "\n",
    "ham8 = seibot.seibot.Seibot(\"test.ini\")"
   ]
  },
  {
   "cell_type": "code",
   "execution_count": 6,
   "id": "3c63514e-8c08-4cbe-a57d-be879505ea2e",
   "metadata": {},
   "outputs": [],
   "source": [
    "seibot.config.get_filter_config(\"filter_config.ini\")"
   ]
  },
  {
   "cell_type": "code",
   "execution_count": 8,
   "id": "73389157-804c-4f95-985b-b747d354d52a",
   "metadata": {},
   "outputs": [],
   "source": [
    "import seibot.filter\n",
    "\n",
    "pool = seibot.filter.FilterPool(\"filter_config.ini\")"
   ]
  },
  {
   "cell_type": "code",
   "execution_count": 9,
   "id": "679461f0-8055-46a8-a499-1a824c8af614",
   "metadata": {},
   "outputs": [
    {
     "data": {
      "text/latex": [
       "$$\\frac{3.556 \\times 10^{5} s^{18} + 2.724 \\times 10^{7} s^{17} + 1.272 \\times 10^{9} s^{16} + 3.457 \\times 10^{10} s^{15} + 6.359 \\times 10^{11} s^{14} + 6.809 \\times 10^{12} s^{13} + 4.211 \\times 10^{13} s^{12} + 1.556 \\times 10^{14} s^{11} + 3.528 \\times 10^{14} s^{10} + 4.964 \\times 10^{14} s^9 + 4.273 \\times 10^{14} s^8 + 2.103 \\times 10^{14} s^7 + 4.792 \\times 10^{13} s^6 + 3.028 \\times 10^{12} s^5 + 2.724 \\times 10^{10} s^4 + 5.114 \\times 10^{8} s^3}{3.568 \\times 10^{5} s^{19} + 2.744 \\times 10^{7} s^{18} + 1.29 \\times 10^{9} s^{17} + 3.53 \\times 10^{10} s^{16} + 6.549 \\times 10^{11} s^{15} + 7.096 \\times 10^{12} s^{14} + 4.46 \\times 10^{13} s^{13} + 1.689 \\times 10^{14} s^{12} + 3.986 \\times 10^{14} s^{11} + 5.991 \\times 10^{14} s^{10} + 5.82 \\times 10^{14} s^9 + 3.741 \\times 10^{14} s^8 + 1.649 \\times 10^{14} s^7 + 4.966 \\times 10^{13} s^6 + 9.538 \\times 10^{12} s^5 + 9.649 \\times 10^{11} s^4 + 2.827 \\times 10^{10} s^3 + 3.231 \\times 10^{8} s^2 + 1.288 \\times 10^{6} s}$$"
      ],
      "text/plain": [
       "TransferFunction(array([3.55571566e+05, 2.72369061e+07, 1.27193124e+09, 3.45734446e+10,\n",
       "       6.35866509e+11, 6.80874648e+12, 4.21106287e+13, 1.55587596e+14,\n",
       "       3.52818758e+14, 4.96355857e+14, 4.27288860e+14, 2.10300994e+14,\n",
       "       4.79205010e+13, 3.02799691e+12, 2.72405872e+10, 5.11412758e+08,\n",
       "       0.00000000e+00, 0.00000000e+00, 0.00000000e+00]), array([3.56766558e+05, 2.74449348e+07, 1.28964863e+09, 3.53027564e+10,\n",
       "       6.54867701e+11, 7.09570283e+12, 4.46022468e+13, 1.68895991e+14,\n",
       "       3.98630796e+14, 5.99079455e+14, 5.81984640e+14, 3.74091371e+14,\n",
       "       1.64901850e+14, 4.96577477e+13, 9.53836157e+12, 9.64949243e+11,\n",
       "       2.82663244e+10, 3.23094402e+08, 1.28840613e+06, 0.00000000e+00]))"
      ]
     },
     "execution_count": 9,
     "metadata": {},
     "output_type": "execute_result"
    }
   ],
   "source": [
    "pool[0]"
   ]
  }
 ],
 "metadata": {
  "kernelspec": {
   "display_name": "Python 3 (ipykernel)",
   "language": "python",
   "name": "python3"
  },
  "language_info": {
   "codemirror_mode": {
    "name": "ipython",
    "version": 3
   },
   "file_extension": ".py",
   "mimetype": "text/x-python",
   "name": "python",
   "nbconvert_exporter": "python",
   "pygments_lexer": "ipython3",
   "version": "3.9.19"
  }
 },
 "nbformat": 4,
 "nbformat_minor": 5
}

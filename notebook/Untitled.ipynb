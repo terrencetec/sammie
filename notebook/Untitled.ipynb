{
 "cells": [
  {
   "cell_type": "code",
   "execution_count": 57,
   "id": "ef7d6501",
   "metadata": {},
   "outputs": [
    {
     "data": {
      "text/plain": [
       "<matplotlib.lines.Line2D at 0x73bf9b5ba320>"
      ]
     },
     "execution_count": 57,
     "metadata": {},
     "output_type": "execute_result"
    },
    {
     "data": {
      "image/png": "[encoded data removed]",
      "text/plain": [
       "<Figure size 432x288 with 1 Axes>"
      ]
     },
     "metadata": {
      "needs_background": "light"
     },
     "output_type": "display_data"
    }
   ],
   "source": [
    "import numpy as np\n",
    "import matplotlib.pyplot as plt\n",
    "\n",
    "A = -0.03\n",
    "B = -0.1268\n",
    "w = 59.5\n",
    "\n",
    "t = np.linspace(0, 0.02, 32768)\n",
    "x = A*np.cos(w*t) + B*np.sin(w*t)\n",
    "\n",
    "plt.plot(t, x)\n",
    "plt.axhline(-0.077879)\n",
    "plt.axvline(t[np.argmin(abs(x+0.077879))])"
   ]
  },
  {
   "cell_type": "code",
   "execution_count": 58,
   "id": "9fbb7360",
   "metadata": {},
   "outputs": [
    {
     "data": {
      "text/plain": [
       "0.006861781670583209"
      ]
     },
     "execution_count": 58,
     "metadata": {},
     "output_type": "execute_result"
    }
   ],
   "source": [
    "t[np.argmin(abs(x+0.077879))]"
   ]
  },
  {
   "cell_type": "code",
   "execution_count": 53,
   "id": "2d0c22a3",
   "metadata": {},
   "outputs": [
    {
     "data": {
      "text/plain": [
       "0.00686217008797654"
      ]
     },
     "execution_count": 53,
     "metadata": {},
     "output_type": "execute_result"
    }
   ],
   "source": [
    "t[351]"
   ]
  },
  {
   "cell_type": "code",
   "execution_count": 43,
   "id": "6e462bc0",
   "metadata": {},
   "outputs": [
    {
     "data": {
      "text/plain": [
       "(-0.8713708359841316+1.6406959791723024j)"
      ]
     },
     "execution_count": 43,
     "metadata": {},
     "output_type": "execute_result"
    }
   ],
   "source": [
    "x = -0.077879\n",
    "\n",
    "(x-np.sqrt(x**2-4*(A/2+B/2j)*(A/2-B/2j)))/(2*A/2+B/2j)"
   ]
  },
  {
   "cell_type": "code",
   "execution_count": 26,
   "id": "728bea2b",
   "metadata": {},
   "outputs": [
    {
     "name": "stderr",
     "output_type": "stream",
     "text": [
      "/tmp/ipykernel_1482572/2985562763.py:1: RuntimeWarning: invalid value encountered in sqrt\n",
      "  1/w*np.sqrt((1-x/A)*2)\n"
     ]
    },
    {
     "data": {
      "text/plain": [
       "nan"
      ]
     },
     "execution_count": 26,
     "metadata": {},
     "output_type": "execute_result"
    }
   ],
   "source": [
    "1/w*np.sqrt((1-x/A)*2)"
   ]
  },
  {
   "cell_type": "code",
   "execution_count": 29,
   "id": "9b88c5f8",
   "metadata": {},
   "outputs": [
    {
     "data": {
      "text/plain": [
       "-1.595966666666667"
      ]
     },
     "execution_count": 29,
     "metadata": {},
     "output_type": "execute_result"
    }
   ],
   "source": [
    "1-x/A"
   ]
  },
  {
   "cell_type": "code",
   "execution_count": 48,
   "id": "611fc5db",
   "metadata": {},
   "outputs": [
    {
     "data": {
      "text/plain": [
       "0.006658159038838081"
      ]
     },
     "execution_count": 48,
     "metadata": {},
     "output_type": "execute_result"
    }
   ],
   "source": [
    "(B*w + np.sqrt((B*w)**2-4*(A*w**2/2)*(x-A))) / (A*w**2)"
   ]
  },
  {
   "cell_type": "code",
   "execution_count": 47,
   "id": "403b3a61",
   "metadata": {},
   "outputs": [
    {
     "data": {
      "text/plain": [
       "6.8374535738826046"
      ]
     },
     "execution_count": 47,
     "metadata": {},
     "output_type": "execute_result"
    }
   ],
   "source": [
    "np.sqrt((B*w)**2-4*(A*w**2/2)*(x-A))"
   ]
  },
  {
   "cell_type": "code",
   "execution_count": 20,
   "id": "8fe95302",
   "metadata": {},
   "outputs": [
    {
     "data": {
      "text/plain": [
       "(0.04573071668645975-0.007475328040038981j)"
      ]
     },
     "execution_count": 20,
     "metadata": {},
     "output_type": "execute_result"
    }
   ],
   "source": [
    "np.log(x-np.sqrt(x**2-4*(A/2+B/2j)*(A/2-B/2j))/(2*A/2+B/2j))/1j/59.5"
   ]
  }
 ],
 "metadata": {
  "kernelspec": {
   "display_name": "Python 3 (ipykernel)",
   "language": "python",
   "name": "python3"
  },
  "language_info": {
   "codemirror_mode": {
    "name": "ipython",
    "version": 3
   },
   "file_extension": ".py",
   "mimetype": "text/x-python",
   "name": "python",
   "nbconvert_exporter": "python",
   "pygments_lexer": "ipython3",
   "version": "3.10.4"
  }
 },
 "nbformat": 4,
 "nbformat_minor": 5
}

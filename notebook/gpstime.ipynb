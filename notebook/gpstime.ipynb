{
 "cells": [
  {
   "cell_type": "code",
   "execution_count": 1,
   "id": "4a271d8f-3455-4f58-9394-4a20d1bf06b7",
   "metadata": {},
   "outputs": [],
   "source": [
    "import datetime"
   ]
  },
  {
   "cell_type": "code",
   "execution_count": 7,
   "id": "f687dcad-ebc6-4c03-8016-2b6ce39d4230",
   "metadata": {},
   "outputs": [
    {
     "data": {
      "text/plain": [
       "float"
      ]
     },
     "execution_count": 7,
     "metadata": {},
     "output_type": "execute_result"
    }
   ],
   "source": [
    "gps_epoch = datetime.datetime(1980, 1, 6, 0, 0, 0, tzinfo=datetime.timezone.utc)\n",
    "\n",
    "now_utc = datetime.datetime.now(datetime.timezone.utc)\n",
    "\n",
    "time_difference = (now_utc - gps_epoch).total_seconds()\n",
    "\n",
    "leap_seconds = 18\n",
    "\n",
    "gps_time = time_difference + leap_seconds\n",
    "\n",
    "type(gps_time)"
   ]
  },
  {
   "cell_type": "code",
   "execution_count": 16,
   "id": "65d56935-5b9a-432b-b130-703b92d074c4",
   "metadata": {},
   "outputs": [],
   "source": [
    "import cdsutils\n",
    "\n",
    "channel = \"1\"\n",
    "try:\n",
    "    cdsutils.getdata(channel, duration=1)\n",
    "except:\n",
    "    pass"
   ]
  }
 ],
 "metadata": {
  "kernelspec": {
   "display_name": "Python 3 (ipykernel)",
   "language": "python",
   "name": "python3"
  },
  "language_info": {
   "codemirror_mode": {
    "name": "ipython",
    "version": 3
   },
   "file_extension": ".py",
   "mimetype": "text/x-python",
   "name": "python",
   "nbconvert_exporter": "python",
   "pygments_lexer": "ipython3",
   "version": "3.9.19"
  }
 },
 "nbformat": 4,
 "nbformat_minor": 5
}

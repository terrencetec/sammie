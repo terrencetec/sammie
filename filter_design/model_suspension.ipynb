{
 "cells": [
  {
   "cell_type": "code",
   "execution_count": 66,
   "id": "1a3286a2-69b4-4968-9444-5b30fb464958",
   "metadata": {},
   "outputs": [],
   "source": [
    "import numpy as np\n",
    "import matplotlib.pyplot as plt\n",
    "import scipy\n",
    "import control\n",
    "import kontrol\n",
    "# data = scipy.io.loadmat(\"../data/hsts_model_L2L.mat\")"
   ]
  },
  {
   "cell_type": "code",
   "execution_count": 27,
   "id": "2b5edd00-1f79-402c-88fb-c10eb47406e1",
   "metadata": {},
   "outputs": [],
   "source": [
    "z = [\n",
    "    -0.9425 + 1.6324j,\n",
    "    -0.9425 - 1.6324j,\n",
    "    -1.1445 + 1.5036j,\n",
    "    -1.1445 - 1.5036j,\n",
    "    -0.0169 + 0.2402j,\n",
    "    -0.0169 - 0.2402j,\n",
    "    -0.0004 + 0.0628j,\n",
    "    -0.0004 - 0.0628j\n",
    "]\n",
    "p = [\n",
    "  -1.0183 + 1.5861j,\n",
    "  -1.0183 - 1.5861j,\n",
    "  -1.0606 + 1.5389j,\n",
    "  -1.0606 - 1.5389j,\n",
    "  -0.0160 + 0.2389j,\n",
    "  -0.0160 - 0.2389j,\n",
    "  -0.0050 + 0.1771j,\n",
    "  -0.0050 - 0.1771j,\n",
    "  -0.0028 + 0.0956j,\n",
    "  -0.0028 - 0.0956j,\n",
    "  -0.0004 + 0.0632j,\n",
    "  -0.0004 - 0.0632j,\n",
    "  -0.0008 + 0.0423j,\n",
    "  -0.0008 - 0.0423j,\n",
    "]\n",
    "\n",
    "z = 1e2 * np.array(z)\n",
    "p = 1e2 * np.array(p)\n",
    "k = 5.0410e+05\n",
    "\n",
    "b, a = scipy.signal.zpk2tf(z, p, k)\n",
    "tf = control.tf(b, a)"
   ]
  },
  {
   "cell_type": "code",
   "execution_count": 59,
   "id": "471b5fab-59e9-465b-8560-a509c95e2220",
   "metadata": {},
   "outputs": [],
   "source": [
    "s = control.tf(\"s\")\n",
    "w1 = 0.6733458*2*np.pi\n",
    "q1 = 26.4422277\n",
    "w2 = 1.52217372*2*np.pi\n",
    "q2 = 17.0787\n",
    "w3 = 2.81975716*2*np.pi\n",
    "q3 = 17.717\n",
    "tf_ = w1**2 / (s**2 + w1/q1*s + w1**2)\n",
    "tf_ *= w2**2 / (s**2 + w2/q2*s + w2**2)\n",
    "tf_ *= w3**2 / (s**2 + w3/q3*s + w3**2)"
   ]
  },
  {
   "cell_type": "code",
   "execution_count": 36,
   "id": "1fa5af53-b318-450d-b68f-44e58c199774",
   "metadata": {},
   "outputs": [
    {
     "data": {
      "text/plain": [
       "33.78987329094823"
      ]
     },
     "execution_count": 36,
     "metadata": {},
     "output_type": "execute_result"
    }
   ],
   "source": [
    "max(abs(tf(1j*2*np.pi*f)))"
   ]
  },
  {
   "cell_type": "code",
   "execution_count": 41,
   "id": "c9341441-7d2e-4874-8b92-2972c2b01823",
   "metadata": {},
   "outputs": [
    {
     "data": {
      "text/plain": [
       "26.44222773256928"
      ]
     },
     "execution_count": 41,
     "metadata": {},
     "output_type": "execute_result"
    }
   ],
   "source": [
    "0.6733458*2*np.pi/(2*0.08)"
   ]
  },
  {
   "cell_type": "code",
   "execution_count": 51,
   "id": "6c9753d5-58cb-41ef-8802-051932ffac43",
   "metadata": {},
   "outputs": [
    {
     "data": {
      "text/plain": [
       "17.078749200855164"
      ]
     },
     "execution_count": 51,
     "metadata": {},
     "output_type": "execute_result"
    }
   ],
   "source": [
    "1.52217372*2*np.pi/2/0.28"
   ]
  },
  {
   "cell_type": "code",
   "execution_count": 58,
   "id": "edb91869-c411-4d39-979d-1c33a751b48d",
   "metadata": {},
   "outputs": [
    {
     "data": {
      "text/plain": [
       "17.71705675752644"
      ]
     },
     "execution_count": 58,
     "metadata": {},
     "output_type": "execute_result"
    }
   ],
   "source": [
    "2.81975716*2*np.pi/2/0.5"
   ]
  },
  {
   "cell_type": "code",
   "execution_count": 57,
   "id": "9edbe9af-5810-4cbf-8e0e-d141b2b35551",
   "metadata": {},
   "outputs": [
    {
     "data": {
      "text/plain": [
       "array([29.99827122, 29.99827122, 29.7457377 , 29.7457377 ,  3.8107294 ,\n",
       "        3.8107294 ,  2.81975716,  2.81975716,  1.52217372,  1.52217372,\n",
       "        1.00587939,  1.00587939,  0.6733458 ,  0.6733458 ])"
      ]
     },
     "execution_count": 57,
     "metadata": {},
     "output_type": "execute_result"
    }
   ],
   "source": [
    "abs(tf.poles())/2/np.pi"
   ]
  },
  {
   "cell_type": "code",
   "execution_count": 35,
   "id": "aa6f9d6d-d088-461d-95b8-b187002e2ca8",
   "metadata": {},
   "outputs": [
    {
     "data": {
      "text/plain": [
       "array([30.07436044, 30.07436044, 29.99990892, 29.99990892,  3.83235222,\n",
       "        3.83235222,  0.99951332,  0.99951332])"
      ]
     },
     "execution_count": 35,
     "metadata": {},
     "output_type": "execute_result"
    }
   ],
   "source": [
    "abs(tf.zeros())/2/np.pi"
   ]
  },
  {
   "cell_type": "code",
   "execution_count": 62,
   "id": "9856bb65-5750-4fb9-bb18-f23c1224568d",
   "metadata": {},
   "outputs": [],
   "source": [
    "tf_weight = w1**2 / (s**2 + w1/q1*s + w1**2) * (w2**2 / (s**2 + w2/q2*s + w2**2))\n",
    "tf_weight /= (w1**2 / (s**2 + w1/.5*s + w1**2)) * (w2**2 / (s**2 + w2/.5*s + w2**2))"
   ]
  },
  {
   "cell_type": "code",
   "execution_count": 63,
   "id": "003191bd-e32c-4c51-8f14-f3331aa64199",
   "metadata": {},
   "outputs": [
    {
     "data": {
      "text/plain": [
       "[<matplotlib.lines.Line2D at 0x724770102310>]"
      ]
     },
     "execution_count": 63,
     "metadata": {},
     "output_type": "execute_result"
    },
    {
     "data": {
      "image/png": "[encoded data removed]",
      "text/plain": [
       "<Figure size 640x480 with 1 Axes>"
      ]
     },
     "metadata": {},
     "output_type": "display_data"
    }
   ],
   "source": [
    "f = np.logspace(-2, 2, 1024)\n",
    "\n",
    "plt.loglog(f, abs(tf(1j*2*np.pi*f)))\n",
    "plt.loglog(f, abs(tf_(1j*2*np.pi*f)))\n",
    "plt.loglog(f, abs(tf_weight(1j*2*np.pi*f)))"
   ]
  },
  {
   "cell_type": "code",
   "execution_count": 68,
   "id": "45903d03-e15b-467d-ba7d-8133d7c7ecb0",
   "metadata": {},
   "outputs": [],
   "source": [
    "tf_ = kontrol.TransferFunction(tf_)\n",
    "tf_.save(\"suspension_models/hsts.pkl\")\n",
    "\n",
    "tf_weight = kontrol.TransferFunction(tf_weight)\n",
    "tf_weight.save(\"suspension_models/hsts_weight.pkl\")"
   ]
  }
 ],
 "metadata": {
  "kernelspec": {
   "display_name": "Python 3 (ipykernel)",
   "language": "python",
   "name": "python3"
  },
  "language_info": {
   "codemirror_mode": {
    "name": "ipython",
    "version": 3
   },
   "file_extension": ".py",
   "mimetype": "text/x-python",
   "name": "python",
   "nbconvert_exporter": "python",
   "pygments_lexer": "ipython3",
   "version": "3.9.19"
  }
 },
 "nbformat": 4,
 "nbformat_minor": 5
}
